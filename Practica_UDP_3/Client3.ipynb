{
 "cells": [
  {
   "cell_type": "code",
   "execution_count": 3,
   "metadata": {},
   "outputs": [
    {
     "name": "stdout",
     "output_type": "stream",
     "text": [
      "Message sent to Server\n",
      "Message received from Server: ('127.0.0.1', 6780)\n",
      "Message: Received 11 characters from client 1\n",
      "Received 11 characters from client 1\n"
     ]
    }
   ],
   "source": [
    "'''\n",
    "import socket\n",
    "import pickle\n",
    "\n",
    "msg=''\n",
    "id = 1\n",
    "\n",
    "while msg!= 'END':\n",
    "\n",
    "    msg = input(\"Introduce el mensaje: \")\n",
    "    bytes_tx=pickle.dumps((msg,id))\n",
    "    #bytes_tx=str.encode(msg) #esta linea es distinta al resto porque ahora uso la librería pickle\n",
    "\n",
    "    server_address = (\"127.0.0.1\",6780)\n",
    "    socket = socket.socket(family=socket.AF_INET, type=socket.SOCK_DGRAM)\n",
    "    socket.sendto(bytes_tx, server_address)\n",
    "    print(\"Message sent to Server\")\n",
    "    print(\"...\")\n",
    "\n",
    "    bytes_rx = socket.recvfrom(1024)\n",
    "    msg_recibido = pickle.loads(bytes_rx[0])\n",
    "    print(\"RX: \",msg_recibido)\n",
    "\n",
    "socket.close()\n",
    "'''\n",
    "import socket\n",
    "import pickle\n",
    "\n",
    "client_id = 1\n",
    "message = input(\"Introduce message to send: \")\n",
    "\n",
    "# Empaquetar mensaje e identificador del cliente usando pickle\n",
    "data_to_send = pickle.dumps((message, client_id))\n",
    "\n",
    "server_address = (\"127.0.0.1\", 6780)\n",
    "socket = socket.socket(family=socket.AF_INET, type=socket.SOCK_DGRAM)\n",
    "\n",
    "# Enviar los datos empaquetados al servidor\n",
    "socket.sendto(data_to_send, server_address)\n",
    "print(\"Message sent to Server\")\n",
    "\n",
    "# Recibir la respuesta del servidor\n",
    "response, server_address = socket.recvfrom(1024)\n",
    "response_data = pickle.loads(response)\n",
    "\n",
    "# Imprimir la respuesta del servidor\n",
    "print(\"Message received from Server:\", server_address)\n",
    "print(\"Message:\", response_data[0])\n",
    "print(f\"Received {response_data[1]} characters from client {client_id}\")\n",
    "\n",
    "socket.close()\n"
   ]
  }
 ],
 "metadata": {
  "kernelspec": {
   "display_name": "Python 3",
   "language": "python",
   "name": "python3"
  },
  "language_info": {
   "codemirror_mode": {
    "name": "ipython",
    "version": 3
   },
   "file_extension": ".py",
   "mimetype": "text/x-python",
   "name": "python",
   "nbconvert_exporter": "python",
   "pygments_lexer": "ipython3",
   "version": "3.12.1"
  }
 },
 "nbformat": 4,
 "nbformat_minor": 2
}
