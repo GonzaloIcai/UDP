{
 "cells": [
  {
   "cell_type": "code",
   "execution_count": 1,
   "metadata": {},
   "outputs": [
    {
     "name": "stdout",
     "output_type": "stream",
     "text": [
      "RX:  (b'Hello Client', ('127.0.0.1', 6780))\n"
     ]
    }
   ],
   "source": [
    "# Importar el módulo 'socket'\n",
    "import socket\n",
    "\n",
    "# Definir un mensaje que se enviará al servidor\n",
    "msg = \"Hello Server\"\n",
    "\n",
    "# Codificar el mensaje en bytes antes de enviarlo\n",
    "bytes_tx = str.encode(msg)\n",
    "\n",
    "# Definir la dirección del servidor con una dirección IP y un número de puerto\n",
    "server_address = (\"127.0.0.1\", 6780)\n",
    "\n",
    "# Crear un socket UDP usando la familia de direcciones AF_INET y el tipo de socket SOCK_DGRAM\n",
    "socket = socket.socket(family=socket.AF_INET, type=socket.SOCK_DGRAM)\n",
    "\n",
    "# Enviar el mensaje codificado a la dirección del servidor especificada utilizando UDP\n",
    "socket.sendto(bytes_tx, server_address)\n",
    "\n",
    "# Recibir hasta 1024 bytes de datos desde el socket\n",
    "bytes_rx = socket.recvfrom(1024)\n",
    "\n",
    "# Imprimir los datos recibidos\n",
    "print(\"RX: \", bytes_rx)\n",
    "\n",
    "# Cerrar el socket\n",
    "socket.close()\n",
    "\n"
   ]
  }
 ],
 "metadata": {
  "kernelspec": {
   "display_name": "Python 3",
   "language": "python",
   "name": "python3"
  },
  "language_info": {
   "codemirror_mode": {
    "name": "ipython",
    "version": 3
   },
   "file_extension": ".py",
   "mimetype": "text/x-python",
   "name": "python",
   "nbconvert_exporter": "python",
   "pygments_lexer": "ipython3",
   "version": "3.12.1"
  }
 },
 "nbformat": 4,
 "nbformat_minor": 2
}
