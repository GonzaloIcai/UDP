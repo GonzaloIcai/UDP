{
 "cells": [
  {
   "cell_type": "code",
   "execution_count": 1,
   "metadata": {},
   "outputs": [
    {
     "ename": "OSError",
     "evalue": "[WinError 10048] Solo se permite un uso de cada dirección de socket (protocolo/dirección de red/puerto)",
     "output_type": "error",
     "traceback": [
      "\u001b[1;31m---------------------------------------------------------------------------\u001b[0m",
      "\u001b[1;31mOSError\u001b[0m                                   Traceback (most recent call last)",
      "Cell \u001b[1;32mIn[1], line 14\u001b[0m\n\u001b[0;32m     11\u001b[0m socket \u001b[38;5;241m=\u001b[39m socket\u001b[38;5;241m.\u001b[39msocket(family\u001b[38;5;241m=\u001b[39msocket\u001b[38;5;241m.\u001b[39mAF_INET, \u001b[38;5;28mtype\u001b[39m\u001b[38;5;241m=\u001b[39msocket\u001b[38;5;241m.\u001b[39mSOCK_DGRAM)\n\u001b[0;32m     13\u001b[0m \u001b[38;5;66;03m# Vincular el socket a la dirección del servidor (127.0.0.1, 6780)\u001b[39;00m\n\u001b[1;32m---> 14\u001b[0m \u001b[43msocket\u001b[49m\u001b[38;5;241;43m.\u001b[39;49m\u001b[43mbind\u001b[49m\u001b[43m(\u001b[49m\u001b[43m(\u001b[49m\u001b[38;5;124;43m\"\u001b[39;49m\u001b[38;5;124;43m127.0.0.1\u001b[39;49m\u001b[38;5;124;43m\"\u001b[39;49m\u001b[43m,\u001b[49m\u001b[43m \u001b[49m\u001b[38;5;241;43m6780\u001b[39;49m\u001b[43m)\u001b[49m\u001b[43m)\u001b[49m\n\u001b[0;32m     16\u001b[0m \u001b[38;5;66;03m# Recibir hasta 1024 bytes de datos desde el socket\u001b[39;00m\n\u001b[0;32m     17\u001b[0m bytes_rx \u001b[38;5;241m=\u001b[39m socket\u001b[38;5;241m.\u001b[39mrecvfrom(\u001b[38;5;241m1024\u001b[39m)\n",
      "\u001b[1;31mOSError\u001b[0m: [WinError 10048] Solo se permite un uso de cada dirección de socket (protocolo/dirección de red/puerto)"
     ]
    }
   ],
   "source": [
    "# Importar el módulo 'socket'\n",
    "import socket\n",
    "\n",
    "# Definir un mensaje que se enviará al cliente\n",
    "msg = \"Hello Client\"\n",
    "\n",
    "# Codificar el mensaje en bytes antes de enviarlo\n",
    "bytes_tx = str.encode(msg)\n",
    "\n",
    "# Crear un socket UDP usando la familia de direcciones AF_INET y el tipo de socket SOCK_DGRAM\n",
    "socket = socket.socket(family=socket.AF_INET, type=socket.SOCK_DGRAM)\n",
    "\n",
    "# Vincular el socket a la dirección del servidor (127.0.0.1, 6780)\n",
    "socket.bind((\"127.0.0.1\", 6780))\n",
    "\n",
    "# Recibir hasta 1024 bytes de datos desde el socket\n",
    "bytes_rx = socket.recvfrom(1024)\n",
    "\n",
    "# Extraer el mensaje y la dirección del remitente\n",
    "message = bytes_rx[0]\n",
    "address = bytes_rx[1]\n",
    "\n",
    "# Imprimir el mensaje recibido en la consola\n",
    "print(message)\n",
    "\n",
    "# Enviar el mensaje codificado de vuelta al cliente en la dirección del remitente\n",
    "socket.sendto(bytes_tx, address)\n",
    "\n",
    "# Cerrar el socket\n",
    "socket.close()\n"
   ]
  }
 ],
 "metadata": {
  "kernelspec": {
   "display_name": "Python 3",
   "language": "python",
   "name": "python3"
  },
  "language_info": {
   "codemirror_mode": {
    "name": "ipython",
    "version": 3
   },
   "file_extension": ".py",
   "mimetype": "text/x-python",
   "name": "python",
   "nbconvert_exporter": "python",
   "pygments_lexer": "ipython3",
   "version": "3.12.1"
  }
 },
 "nbformat": 4,
 "nbformat_minor": 2
}
