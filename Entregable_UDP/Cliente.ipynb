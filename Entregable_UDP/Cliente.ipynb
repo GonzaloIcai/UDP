{
 "cells": [
  {
   "cell_type": "code",
   "execution_count": 2,
   "metadata": {},
   "outputs": [
    {
     "name": "stdout",
     "output_type": "stream",
     "text": [
      "\n",
      "Pregunta 1:\n",
      "Which American civilization is the source of the belief that the world would end or drastically change on December 21st, 2012?\n",
      "Opciones: \n",
      "1. The Mayans\n",
      "2. The Incas\n",
      "3. The Aztecs\n",
      "4. The Navajos\n",
      "\n",
      "Escribe la respuesta correcta: \n",
      "Resultado: Respuesta correcta\n",
      "\n",
      "Pregunta 2:\n",
      "What Nickelodeon game show featured a house on the set that the contestants would ransack to find hidden objects?\n",
      "Opciones: \n",
      "1. Double Dare\n",
      "2. Finders Keepers\n",
      "3. Nickelodeon Guts\n",
      "4. Nick Arcade\n",
      "\n",
      "Escribe la respuesta correcta: \n",
      "Resultado: Respuesta incorrecta\n",
      "\n",
      "¡FIN DEL JUEGO!\n",
      "Has respondido 1 pregunta correctamente.\n"
     ]
    }
   ],
   "source": [
    "import socket\n",
    "\n",
    "# Metodo que recibe las preguntas\n",
    "def receive_question(socket_client):\n",
    "    data = socket_client.recvfrom(1024)\n",
    "    return data[0].decode()\n",
    "\n",
    "# Metodo que envia la respuesta\n",
    "def send_response(socket_client, response,server_address):\n",
    "    socket_client.sendto(str.encode(response), server_address)\n",
    "\n",
    "def main():\n",
    "    # Configurar el socket del cliente\n",
    "    server_address = (\"127.0.0.1\", 6789)\n",
    "    socket_client = socket.socket(family=socket.AF_INET, type=socket.SOCK_DGRAM)\n",
    "      \n",
    "    try:\n",
    "\n",
    "        # Envía solicitud al servidor para recibir preguntas\n",
    "        connected =\"Client connected\"\n",
    "        socket_client.sendto(str.encode(connected), server_address)\n",
    "        for i in range(3):\n",
    "\n",
    "            # Recibe y muestra las preguntas del servidor\n",
    "            question = receive_question(socket_client)\n",
    "            print(\"\\n\" + question)\n",
    "\n",
    "            # Envía respuesta al servidor\n",
    "            response = input(\"Introduce tu respuesta: \")\n",
    "            send_response(socket_client, response, server_address)\n",
    "\n",
    "            # Recibe y muestra el resultado del servidor\n",
    "            result= socket_client.recvfrom(1024)\n",
    "            print(\"Resultado:\", result[0].decode())\n",
    "            socket_client.sendto(\"OK\".encode(), server_address)\n",
    "\n",
    "    except: \n",
    "        print(\"Error en la conexión\")\n",
    "    \n",
    "    result= socket_client.recvfrom(1024)\n",
    "    print(result[0].decode())\n",
    "    socket_client.close()\n",
    "\n",
    "if __name__ == \"__main__\":\n",
    "    main()"
   ]
  }
 ],
 "metadata": {
  "kernelspec": {
   "display_name": "Python 3",
   "language": "python",
   "name": "python3"
  },
  "language_info": {
   "codemirror_mode": {
    "name": "ipython",
    "version": 3
   },
   "file_extension": ".py",
   "mimetype": "text/x-python",
   "name": "python",
   "nbconvert_exporter": "python",
   "pygments_lexer": "ipython3",
   "version": "3.12.1"
  }
 },
 "nbformat": 4,
 "nbformat_minor": 2
}
