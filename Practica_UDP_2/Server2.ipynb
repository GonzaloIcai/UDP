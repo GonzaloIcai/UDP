{
 "cells": [
  {
   "cell_type": "code",
   "execution_count": 2,
   "metadata": {},
   "outputs": [
    {
     "name": "stdout",
     "output_type": "stream",
     "text": [
      "Puerto introducido: 6780\n",
      "UDP server up and listening\n",
      "Message from Client: b'Hello Server'\n",
      "Client IP Address: ('127.0.0.1', 58392)\n",
      "Message from Client: b'Hello Server'\n",
      "Client IP Address: ('127.0.0.1', 62565)\n"
     ]
    }
   ],
   "source": [
    "\"\"\"\n",
    "import socket\n",
    "\n",
    "msg =\"Hello Client\"\n",
    "bytes_tx=str.encode(msg)\n",
    "\n",
    "socket=socket.socket(family=socket.AF_INET, type=socket.SOCK_DGRAM)\n",
    "port=0\n",
    "\n",
    "while(port==0):\n",
    "    try:\n",
    "        port=int(input(\"Introduzca el número del puerto \"))\n",
    "        print(\"puerto introducido: \" + str(port))\n",
    "    except:\n",
    "        print(\"El puerto debe ser un número\")\n",
    "\n",
    "socket.bind ( (\"127.0.0.1\", port))\n",
    "print(\"UDP server up and listening\")\n",
    "bytes_rx=socket.recvfrom(1024)\n",
    "message=bytes_rx[0]\n",
    "address=bytes_rx[1]\n",
    "print(message)\n",
    "socket.sendto(bytes_tx, address)\n",
    "socket.close()\n",
    "\"\"\"\n",
    "\n",
    "import socket\n",
    "\n",
    "msg = \"Hello Client\"\n",
    "bytes_tx = str.encode(msg)\n",
    "\n",
    "socket = socket.socket(family=socket.AF_INET, type=socket.SOCK_DGRAM)\n",
    "port = 0\n",
    "\n",
    "# Solicitar al usuario el número de puerto\n",
    "while port == 0:\n",
    "    try:\n",
    "        port = int(input(\"Provide port number (e.g. 6789): \"))\n",
    "        print(\"Puerto introducido: \" + str(port))\n",
    "    except ValueError:\n",
    "        print(\"El puerto debe ser un número\")\n",
    "\n",
    "socket.bind((\"127.0.0.1\", port))\n",
    "print(\"UDP server up and listening\")\n",
    "\n",
    "while True:\n",
    "    bytes_rx = socket.recvfrom(1024)\n",
    "    message = bytes_rx[0]\n",
    "    address = bytes_rx[1]\n",
    "    print(\"Message from Client:\", message)\n",
    "    print(\"Client IP Address:\", address)\n",
    "    socket.sendto(bytes_tx, address)\n"
   ]
  },
  {
   "cell_type": "code",
   "execution_count": null,
   "metadata": {},
   "outputs": [],
   "source": []
  }
 ],
 "metadata": {
  "kernelspec": {
   "display_name": "Python 3",
   "language": "python",
   "name": "python3"
  },
  "language_info": {
   "codemirror_mode": {
    "name": "ipython",
    "version": 3
   },
   "file_extension": ".py",
   "mimetype": "text/x-python",
   "name": "python",
   "nbconvert_exporter": "python",
   "pygments_lexer": "ipython3",
   "version": "3.12.1"
  }
 },
 "nbformat": 4,
 "nbformat_minor": 2
}
