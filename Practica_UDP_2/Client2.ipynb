{
 "cells": [
  {
   "cell_type": "code",
   "execution_count": 3,
   "metadata": {},
   "outputs": [
    {
     "name": "stdout",
     "output_type": "stream",
     "text": [
      "RX:  (b'Hello Client', ('127.0.0.1', 6780))\n"
     ]
    }
   ],
   "source": [
    "\"\"\"\n",
    "import socket\n",
    "\n",
    "msg = \"Hello Server\"\n",
    "bytes_tx=str.encode(msg)\n",
    "\n",
    "server_address = (\"127.0.0.1\",6780)\n",
    "socket = socket.socket(family=socket.AF_INET, type=socket.SOCK_DGRAM)\n",
    "socket.sendto(bytes_tx, server_address)\n",
    "\n",
    "bytes_rx = socket.recvfrom(1024)\n",
    "print(\"RX: \",bytes_rx)\n",
    "socket.close()\n",
    "\"\"\"\n",
    "import socket\n",
    "\n",
    "msg = \"Hello Server\"\n",
    "bytes_tx = str.encode(msg)\n",
    "\n",
    "# Solicitar al usuario el número de puerto\n",
    "while True:\n",
    "    try:\n",
    "        port = int(input(\"Provide port number (e.g. 6789): \"))\n",
    "        break\n",
    "    except ValueError:\n",
    "        print(\"It has to be a number (e.g. 6789)\")\n",
    "\n",
    "server_address = (\"127.0.0.1\", port)\n",
    "\n",
    "socket = socket.socket(family=socket.AF_INET, type=socket.SOCK_DGRAM)\n",
    "socket.sendto(bytes_tx, server_address)\n",
    "\n",
    "bytes_rx = socket.recvfrom(1024)\n",
    "print(\"RX: \", bytes_rx)\n",
    "socket.close()\n"
   ]
  }
 ],
 "metadata": {
  "kernelspec": {
   "display_name": "Python 3",
   "language": "python",
   "name": "python3"
  },
  "language_info": {
   "codemirror_mode": {
    "name": "ipython",
    "version": 3
   },
   "file_extension": ".py",
   "mimetype": "text/x-python",
   "name": "python",
   "nbconvert_exporter": "python",
   "pygments_lexer": "ipython3",
   "version": "3.12.1"
  }
 },
 "nbformat": 4,
 "nbformat_minor": 2
}
