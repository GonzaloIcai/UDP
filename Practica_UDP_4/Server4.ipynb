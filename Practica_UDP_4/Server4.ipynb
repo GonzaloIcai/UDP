{
 "cells": [
  {
   "cell_type": "code",
   "execution_count": 2,
   "metadata": {},
   "outputs": [
    {
     "name": "stdout",
     "output_type": "stream",
     "text": [
      "Puerto introducido: 6780\n",
      "UDP server up and listening\n",
      "Message received client 1\n",
      "Message received from ('127.0.0.1', 57622)\n",
      "Number of characters in message: 4\n",
      "Message received client 1\n",
      "Message received from ('127.0.0.1', 57622)\n",
      "Number of characters in message: 5\n",
      "Received EXIT command from client 1\n"
     ]
    }
   ],
   "source": [
    "import socket\n",
    "import pickle\n",
    "\n",
    "def handle_client_exit(socket, client_address, client_id):\n",
    "    print(f\"Received EXIT command from client {client_id}\")\n",
    "    farewell_message = \"Bye\"\n",
    "    response_data = pickle.dumps((farewell_message, len(farewell_message)))\n",
    "    socket.sendto(response_data, client_address)\n",
    "\n",
    "# Configurar el socket del servidor\n",
    "socket = socket.socket(family=socket.AF_INET, type=socket.SOCK_DGRAM)\n",
    "port = 0\n",
    "\n",
    "try:\n",
    "    while port == 0:\n",
    "        try:\n",
    "            port = int(input(\"Provide port number (e.g. 6780): \"))\n",
    "            print(\"Puerto introducido:\", port)\n",
    "        except ValueError:\n",
    "            print(\"El puerto debe ser un número\")\n",
    "\n",
    "    socket.bind((\"127.0.0.1\", port))\n",
    "    print(\"UDP server up and listening\")\n",
    "\n",
    "    # Esperar a recibir el ID del cliente\n",
    "    data_received, client_address = socket.recvfrom(1024)\n",
    "    client_id = pickle.loads(data_received)[1]\n",
    "    socket.sendto(f\"Client {client_id} connected\".encode(), client_address)\n",
    "\n",
    "    while True:\n",
    "        # Recibir datos del cliente\n",
    "        data_received, client_address = socket.recvfrom(1024)\n",
    "        message, client_id = pickle.loads(data_received)\n",
    "\n",
    "        if message.upper() == \"EXIT\":\n",
    "            handle_client_exit(socket, client_address, client_id)\n",
    "            break\n",
    "\n",
    "        # Imprimir información sobre el cliente\n",
    "        print(f\"Message received client {client_id}\")\n",
    "        print(\"Message received from\", client_address)\n",
    "\n",
    "        # Contar el número de caracteres en el mensaje\n",
    "        num_characters = len(message)\n",
    "        print(\"Number of characters in message:\", num_characters)\n",
    "\n",
    "        # Enviar una respuesta al cliente\n",
    "        response_data = pickle.dumps((f\"Received {num_characters} characters from client {client_id}\", num_characters))\n",
    "        socket.sendto(response_data, client_address)\n",
    "\n",
    "finally:\n",
    "    # Cerrar el socket al finalizar\n",
    "    socket.close()\n"
   ]
  }
 ],
 "metadata": {
  "kernelspec": {
   "display_name": "Python 3",
   "language": "python",
   "name": "python3"
  },
  "language_info": {
   "codemirror_mode": {
    "name": "ipython",
    "version": 3
   },
   "file_extension": ".py",
   "mimetype": "text/x-python",
   "name": "python",
   "nbconvert_exporter": "python",
   "pygments_lexer": "ipython3",
   "version": "3.12.1"
  }
 },
 "nbformat": 4,
 "nbformat_minor": 2
}
